{
 "cells": [
  {
   "cell_type": "code",
   "execution_count": 130,
   "id": "c255e440-432e-4130-929b-a85046d1ee09",
   "metadata": {},
   "outputs": [],
   "source": [
    "import pandas as pd"
   ]
  },
  {
   "cell_type": "code",
   "execution_count": 132,
   "id": "72dbf2f9-0b3b-4711-adb3-e287f4728b38",
   "metadata": {
    "tags": []
   },
   "outputs": [],
   "source": [
    "df = pd.read_csv('testp.csv')"
   ]
  },
  {
   "cell_type": "code",
   "execution_count": 134,
   "id": "c201f0e4-7c7e-4555-94f4-e99d891e0f8a",
   "metadata": {
    "tags": []
   },
   "outputs": [],
   "source": [
    "import numpy as np"
   ]
  },
  {
   "cell_type": "code",
   "execution_count": 136,
   "id": "31940fab-102b-46a5-b71c-f35bb474dace",
   "metadata": {
    "tags": []
   },
   "outputs": [],
   "source": [
    "import matplotlib.pyplot as plt"
   ]
  },
  {
   "cell_type": "code",
   "execution_count": 138,
   "id": "e5d6f3ba-73ad-4f3c-a09b-7c8d39cbd1e0",
   "metadata": {
    "tags": []
   },
   "outputs": [
    {
     "name": "stdout",
     "output_type": "stream",
     "text": [
      "<class 'pandas.core.frame.DataFrame'>\n",
      "RangeIndex: 32 entries, 0 to 31\n",
      "Data columns (total 11 columns):\n",
      " #   Column            Non-Null Count  Dtype  \n",
      "---  ------            --------------  -----  \n",
      " 0   exp               32 non-null     float64\n",
      " 1   gdp               32 non-null     float64\n",
      " 2   imp               32 non-null     float64\n",
      " 3   Military          32 non-null     float64\n",
      " 4   natural gas rent  32 non-null     float64\n",
      " 5   oil               32 non-null     float64\n",
      " 6   tax               32 non-null     float64\n",
      " 7   unemployment      32 non-null     object \n",
      " 8   s&p               32 non-null     float64\n",
      " 9   pop growth        32 non-null     float64\n",
      " 10  inflalation       32 non-null     float64\n",
      "dtypes: float64(10), object(1)\n",
      "memory usage: 2.9+ KB\n",
      "None\n"
     ]
    }
   ],
   "source": [
    "print(df.info())"
   ]
  },
  {
   "cell_type": "code",
   "execution_count": 140,
   "id": "3da83df2-da83-409d-a58f-00e8c593381e",
   "metadata": {
    "tags": []
   },
   "outputs": [],
   "source": [
    "descriptive_stats = df.describe()"
   ]
  },
  {
   "cell_type": "code",
   "execution_count": 142,
   "id": "896e5977-9867-4a50-bbc9-9be6ba689ca9",
   "metadata": {
    "tags": []
   },
   "outputs": [
    {
     "name": "stdout",
     "output_type": "stream",
     "text": [
      "             exp        gdp        imp   Military  natural gas rent  \\\n",
      "count  32.000000  32.000000  32.000000  32.000000         32.000000   \n",
      "mean    3.877186   0.990740   3.954621   2.135893          0.002330   \n",
      "std     5.819136   2.239869   5.334526   0.309253          0.001812   \n",
      "min   -16.903810  -7.791009 -12.324497   1.836461          0.000021   \n",
      "25%     2.104847   0.341678   2.244637   1.904915          0.000370   \n",
      "50%     4.326990   1.345386   4.692764   2.027201          0.002585   \n",
      "75%     6.298947   1.973188   6.477700   2.263509          0.003655   \n",
      "max    13.039245   6.131761  15.353489   2.812136          0.006358   \n",
      "\n",
      "             oil           tax        s&p  pop growth  inflalation  \n",
      "count  32.000000  3.200000e+01  32.000000   32.000000    32.000000  \n",
      "mean    0.009463  1.796716e+11   6.469655    0.498845     1.540207  \n",
      "std     0.004314  3.824664e+10  19.777786    0.166925     0.826214  \n",
      "min     0.002207  1.157420e+11 -45.156634    0.263869     0.037514  \n",
      "25%     0.007310  1.538608e+11  -7.350142    0.358089     0.990141  \n",
      "50%     0.009139  1.826460e+11   8.893180    0.483324     1.665320  \n",
      "75%     0.011307  2.070165e+11  17.252314    0.634066     2.011781  \n",
      "max     0.026636  2.470910e+11  39.879579    0.879707     3.213407  \n"
     ]
    }
   ],
   "source": [
    "print(descriptive_stats)"
   ]
  },
  {
   "cell_type": "code",
   "execution_count": 144,
   "id": "52308425-1841-45d3-b3c2-9d91130ebbc7",
   "metadata": {
    "tags": []
   },
   "outputs": [
    {
     "data": {
      "image/png": "[encoded data removed]",
      "text/plain": [
       "<Figure size 640x480 with 1 Axes>"
      ]
     },
     "metadata": {},
     "output_type": "display_data"
    }
   ],
   "source": [
    "plt.scatter(df['imp'], df['s&p'])\n",
    "plt.title('scatter plot data')\n",
    "plt.xlabel('exp')\n",
    "plt.ylabel('s&p')  \n",
    "plt.show()            "
   ]
  },
  {
   "cell_type": "code",
   "execution_count": 146,
   "id": "54d7b405-1a6e-473a-b0e5-93430affa339",
   "metadata": {},
   "outputs": [],
   "source": [
    "from sklearn.model_selection import train_test_split\n",
    "from sklearn.linear_model import LinearRegression\n",
    "from sklearn.metrics import mean_squared_error\n",
    "import pandas as pd\n",
    "import numpy as np\n",
    "df = pd.read_csv('testp.csv')\n",
    "X_test = pd.DataFrame({'imp', 'exp', 'oil', 's&p'})"
   ]
  },
  {
   "cell_type": "code",
   "execution_count": 148,
   "id": "576c0390-2e76-4128-8014-dfb4ddaf87ef",
   "metadata": {
    "tags": []
   },
   "outputs": [
    {
     "name": "stdout",
     "output_type": "stream",
     "text": [
      "\n",
      "DataFrame after renaming column 's&p' to 'sp':\n",
      "          exp       gdp        imp  Military  natural gas rent       oil  \\\n",
      "0    4.145828  2.430247   5.042199  2.805268          0.003941  0.026636   \n",
      "1    6.277300  0.163146   2.955857  2.812136          0.003175  0.012641   \n",
      "2    5.949880  1.094598   1.766858  2.690661          0.001488  0.012058   \n",
      "3    0.394605 -1.059437  -3.319230  2.689535          0.003652  0.011804   \n",
      "4    8.158915  1.976392   8.862599  2.660375          0.003431  0.010273   \n",
      "5    8.854316  1.736101   7.522725  2.492496          0.005255  0.008798   \n",
      "6    4.268088  1.051725   2.445829  2.414474          0.004345  0.010561   \n",
      "7   13.039245  1.972119   7.975598  2.375410          0.004593  0.007753   \n",
      "8    8.812541  3.205153  11.900408  2.226208          0.000501  0.002207   \n",
      "9    5.111921  2.888699   6.950600  2.177843          0.000447  0.006010   \n",
      "10  12.885544  3.212385  15.353489  2.085018          0.002995  0.012816   \n",
      "11   3.072397  1.242527   2.381768  2.030695          0.006358  0.009360   \n",
      "12   1.997254  0.401189   1.945585  2.046258          0.004233  0.008309   \n",
      "13  -0.958892  0.109403   0.893617  2.095680          0.003322  0.007379   \n",
      "14   5.358051  2.076625   6.204037  2.104351          0.002208  0.008104   \n",
      "15   3.975620  0.903680   6.320067  2.023707          0.001488  0.011141   \n",
      "16   5.997734  1.741085   5.600584  1.975098          0.003664  0.011868   \n",
      "17   2.791190  1.795236   5.755702  1.907529          0.002854  0.010591   \n",
      "18   0.440687 -0.302484   1.295003  1.897076          0.004164  0.014247   \n",
      "19 -10.898042 -3.370397  -9.354563  2.098147          0.003001  0.007676   \n",
      "20   8.695173  1.448245   8.892523  1.969419          0.002330  0.008918   \n",
      "21   6.363890  1.700610   5.837368  1.891406          0.002587  0.010819   \n",
      "22   2.842136 -0.171161   0.200224  1.871081          0.002583  0.012694   \n",
      "23   2.140712  0.058150   2.418481  1.849876          0.001549  0.010931   \n",
      "24   3.272421  0.484564   4.898686  1.862961          0.000047  0.009472   \n",
      "25   4.645919  0.754024   5.898054  1.872258          0.000062  0.005125   \n",
      "26   1.775863  0.829057   2.928765  1.917282          0.000034  0.003852   \n",
      "27   4.385893  1.994998   4.486842  1.908642          0.000036  0.005187   \n",
      "28   4.526985  1.500539   3.079156  1.843009          0.000029  0.008391   \n",
      "29   1.618733  1.495899   2.344321  1.836461          0.000038  0.006783   \n",
      "30 -16.903810 -7.791009 -12.324497  2.002840          0.000021  0.003297   \n",
      "31  11.031856  6.131761   9.389211  1.915361          0.000138  0.007102   \n",
      "\n",
      "             tax unemployment         sp  pop growth  inflalation  \n",
      "0   1.157420e+11           .. -14.845520    0.480817     3.194283  \n",
      "1   1.157530e+11         9.13  15.166564    0.879707     3.213407  \n",
      "2   1.181480e+11         10.2  -1.120875    0.498037     2.363760  \n",
      "3   1.190780e+11        11.32  13.989231    0.434439     2.104463  \n",
      "4   1.281940e+11        12.59  -7.989774    0.373912     1.655515  \n",
      "5   1.366050e+11        11.83   8.188130    0.363543     1.796481  \n",
      "6   1.453190e+11        12.37  17.007779    0.356872     1.982884  \n",
      "7   1.499330e+11        12.57  12.183496    0.356498     1.203943  \n",
      "8   1.551700e+11        12.07  39.879579    0.370907     0.651127  \n",
      "9   1.613830e+11        11.98  30.224262    0.516384     0.537142  \n",
      "10  1.634500e+11        10.22  -6.906748    0.686783     1.675960  \n",
      "11  1.654950e+11         8.61 -26.601370    0.729431     1.634781  \n",
      "12  1.707370e+11          8.7 -21.249459    0.728746     1.923412  \n",
      "13  1.737730e+11         8.31  38.896387    0.710448     2.098472  \n",
      "14  1.780720e+11         8.91  15.879102    0.735098     2.142090  \n",
      "15  1.826030e+11         8.88   7.713707    0.749918     1.745869  \n",
      "16  1.890880e+11         8.83  30.997141    0.693707     1.675124  \n",
      "17  1.915350e+11         8.01  12.012352    0.616494     1.487998  \n",
      "18  1.899980e+11         7.39 -45.156634    0.557564     2.812862  \n",
      "19  1.826890e+11         9.12  25.637250    0.513103     0.087620  \n",
      "20  1.893290e+11         9.28  -9.850566    0.492821     1.531123  \n",
      "21  1.959450e+11         9.23 -19.474215    0.482695     2.111598  \n",
      "22  2.004660e+11         9.84  15.230660    0.483953     1.954195  \n",
      "23  2.058060e+11         9.91  17.985920    0.516540     0.863715  \n",
      "24  2.106480e+11        10.27  -0.540044    0.468246     0.507759  \n",
      "25  2.168940e+11        10.35   8.526359    0.355569     0.037514  \n",
      "26  2.212780e+11        10.06   4.857604    0.263869     0.183335  \n",
      "27  2.324450e+11         9.41   9.260002    0.290202     1.032283  \n",
      "28  2.395620e+11         9.02 -10.952725    0.358495     1.850815  \n",
      "29  2.470910e+11         8.41  26.367614    0.341374     1.108255  \n",
      "30  2.316140e+11         8.01  -7.136931    0.271351     0.476499  \n",
      "31  2.256470e+11         7.86  28.850681    0.285509     1.642331  \n"
     ]
    }
   ],
   "source": [
    "df.rename(columns={'s&p': 'sp'}, inplace=True)\n",
    "print(\"\\nDataFrame after renaming column 's&p' to 'sp':\")\n",
    "print(df)"
   ]
  },
  {
   "cell_type": "code",
   "execution_count": 150,
   "id": "33a8ba71-77e9-4d10-bc64-6e606e937a70",
   "metadata": {
    "tags": []
   },
   "outputs": [],
   "source": [
    "X = df[['imp', 'exp', 'oil', 'sp', ]] \n",
    "Y = df['gdp']  \n"
   ]
  },
  {
   "cell_type": "code",
   "execution_count": 152,
   "id": "ec274674-d69e-493b-b25d-eef4623a54b1",
   "metadata": {
    "tags": []
   },
   "outputs": [],
   "source": [
    "X_train, X_test, y_train, y_test = train_test_split(X, Y, test_size=0.2, random_state=0)"
   ]
  },
  {
   "cell_type": "code",
   "execution_count": 154,
   "id": "1b5f7d3d-cfb7-4461-9606-364015856a86",
   "metadata": {
    "tags": []
   },
   "outputs": [
    {
     "data": {
      "text/html": [
       "<style>#sk-container-id-3 {\n",
       "  /* Definition of color scheme common for light and dark mode */\n",
       "  --sklearn-color-text: black;\n",
       "  --sklearn-color-line: gray;\n",
       "  /* Definition of color scheme for unfitted estimators */\n",
       "  --sklearn-color-unfitted-level-0: #fff5e6;\n",
       "  --sklearn-color-unfitted-level-1: #f6e4d2;\n",
       "  --sklearn-color-unfitted-level-2: #ffe0b3;\n",
       "  --sklearn-color-unfitted-level-3: chocolate;\n",
       "  /* Definition of color scheme for fitted estimators */\n",
       "  --sklearn-color-fitted-level-0: #f0f8ff;\n",
       "  --sklearn-color-fitted-level-1: #d4ebff;\n",
       "  --sklearn-color-fitted-level-2: #b3dbfd;\n",
       "  --sklearn-color-fitted-level-3: cornflowerblue;\n",
       "\n",
       "  /* Specific color for light theme */\n",
       "  --sklearn-color-text-on-default-background: var(--sg-text-color, var(--theme-code-foreground, var(--jp-content-font-color1, black)));\n",
       "  --sklearn-color-background: var(--sg-background-color, var(--theme-background, var(--jp-layout-color0, white)));\n",
       "  --sklearn-color-border-box: var(--sg-text-color, var(--theme-code-foreground, var(--jp-content-font-color1, black)));\n",
       "  --sklearn-color-icon: #696969;\n",
       "\n",
       "  @media (prefers-color-scheme: dark) {\n",
       "    /* Redefinition of color scheme for dark theme */\n",
       "    --sklearn-color-text-on-default-background: var(--sg-text-color, var(--theme-code-foreground, var(--jp-content-font-color1, white)));\n",
       "    --sklearn-color-background: var(--sg-background-color, var(--theme-background, var(--jp-layout-color0, #111)));\n",
       "    --sklearn-color-border-box: var(--sg-text-color, var(--theme-code-foreground, var(--jp-content-font-color1, white)));\n",
       "    --sklearn-color-icon: #878787;\n",
       "  }\n",
       "}\n",
       "\n",
       "#sk-container-id-3 {\n",
       "  color: var(--sklearn-color-text);\n",
       "}\n",
       "\n",
       "#sk-container-id-3 pre {\n",
       "  padding: 0;\n",
       "}\n",
       "\n",
       "#sk-container-id-3 input.sk-hidden--visually {\n",
       "  border: 0;\n",
       "  clip: rect(1px 1px 1px 1px);\n",
       "  clip: rect(1px, 1px, 1px, 1px);\n",
       "  height: 1px;\n",
       "  margin: -1px;\n",
       "  overflow: hidden;\n",
       "  padding: 0;\n",
       "  position: absolute;\n",
       "  width: 1px;\n",
       "}\n",
       "\n",
       "#sk-container-id-3 div.sk-dashed-wrapped {\n",
       "  border: 1px dashed var(--sklearn-color-line);\n",
       "  margin: 0 0.4em 0.5em 0.4em;\n",
       "  box-sizing: border-box;\n",
       "  padding-bottom: 0.4em;\n",
       "  background-color: var(--sklearn-color-background);\n",
       "}\n",
       "\n",
       "#sk-container-id-3 div.sk-container {\n",
       "  /* jupyter's `normalize.less` sets `[hidden] { display: none; }`\n",
       "     but bootstrap.min.css set `[hidden] { display: none !important; }`\n",
       "     so we also need the `!important` here to be able to override the\n",
       "     default hidden behavior on the sphinx rendered scikit-learn.org.\n",
       "     See: https://github.com/scikit-learn/scikit-learn/issues/21755 */\n",
       "  display: inline-block !important;\n",
       "  position: relative;\n",
       "}\n",
       "\n",
       "#sk-container-id-3 div.sk-text-repr-fallback {\n",
       "  display: none;\n",
       "}\n",
       "\n",
       "div.sk-parallel-item,\n",
       "div.sk-serial,\n",
       "div.sk-item {\n",
       "  /* draw centered vertical line to link estimators */\n",
       "  background-image: linear-gradient(var(--sklearn-color-text-on-default-background), var(--sklearn-color-text-on-default-background));\n",
       "  background-size: 2px 100%;\n",
       "  background-repeat: no-repeat;\n",
       "  background-position: center center;\n",
       "}\n",
       "\n",
       "/* Parallel-specific style estimator block */\n",
       "\n",
       "#sk-container-id-3 div.sk-parallel-item::after {\n",
       "  content: \"\";\n",
       "  width: 100%;\n",
       "  border-bottom: 2px solid var(--sklearn-color-text-on-default-background);\n",
       "  flex-grow: 1;\n",
       "}\n",
       "\n",
       "#sk-container-id-3 div.sk-parallel {\n",
       "  display: flex;\n",
       "  align-items: stretch;\n",
       "  justify-content: center;\n",
       "  background-color: var(--sklearn-color-background);\n",
       "  position: relative;\n",
       "}\n",
       "\n",
       "#sk-container-id-3 div.sk-parallel-item {\n",
       "  display: flex;\n",
       "  flex-direction: column;\n",
       "}\n",
       "\n",
       "#sk-container-id-3 div.sk-parallel-item:first-child::after {\n",
       "  align-self: flex-end;\n",
       "  width: 50%;\n",
       "}\n",
       "\n",
       "#sk-container-id-3 div.sk-parallel-item:last-child::after {\n",
       "  align-self: flex-start;\n",
       "  width: 50%;\n",
       "}\n",
       "\n",
       "#sk-container-id-3 div.sk-parallel-item:only-child::after {\n",
       "  width: 0;\n",
       "}\n",
       "\n",
       "/* Serial-specific style estimator block */\n",
       "\n",
       "#sk-container-id-3 div.sk-serial {\n",
       "  display: flex;\n",
       "  flex-direction: column;\n",
       "  align-items: center;\n",
       "  background-color: var(--sklearn-color-background);\n",
       "  padding-right: 1em;\n",
       "  padding-left: 1em;\n",
       "}\n",
       "\n",
       "\n",
       "/* Toggleable style: style used for estimator/Pipeline/ColumnTransformer box that is\n",
       "clickable and can be expanded/collapsed.\n",
       "- Pipeline and ColumnTransformer use this feature and define the default style\n",
       "- Estimators will overwrite some part of the style using the `sk-estimator` class\n",
       "*/\n",
       "\n",
       "/* Pipeline and ColumnTransformer style (default) */\n",
       "\n",
       "#sk-container-id-3 div.sk-toggleable {\n",
       "  /* Default theme specific background. It is overwritten whether we have a\n",
       "  specific estimator or a Pipeline/ColumnTransformer */\n",
       "  background-color: var(--sklearn-color-background);\n",
       "}\n",
       "\n",
       "/* Toggleable label */\n",
       "#sk-container-id-3 label.sk-toggleable__label {\n",
       "  cursor: pointer;\n",
       "  display: block;\n",
       "  width: 100%;\n",
       "  margin-bottom: 0;\n",
       "  padding: 0.5em;\n",
       "  box-sizing: border-box;\n",
       "  text-align: center;\n",
       "}\n",
       "\n",
       "#sk-container-id-3 label.sk-toggleable__label-arrow:before {\n",
       "  /* Arrow on the left of the label */\n",
       "  content: \"▸\";\n",
       "  float: left;\n",
       "  margin-right: 0.25em;\n",
       "  color: var(--sklearn-color-icon);\n",
       "}\n",
       "\n",
       "#sk-container-id-3 label.sk-toggleable__label-arrow:hover:before {\n",
       "  color: var(--sklearn-color-text);\n",
       "}\n",
       "\n",
       "/* Toggleable content - dropdown */\n",
       "\n",
       "#sk-container-id-3 div.sk-toggleable__content {\n",
       "  max-height: 0;\n",
       "  max-width: 0;\n",
       "  overflow: hidden;\n",
       "  text-align: left;\n",
       "  /* unfitted */\n",
       "  background-color: var(--sklearn-color-unfitted-level-0);\n",
       "}\n",
       "\n",
       "#sk-container-id-3 div.sk-toggleable__content.fitted {\n",
       "  /* fitted */\n",
       "  background-color: var(--sklearn-color-fitted-level-0);\n",
       "}\n",
       "\n",
       "#sk-container-id-3 div.sk-toggleable__content pre {\n",
       "  margin: 0.2em;\n",
       "  border-radius: 0.25em;\n",
       "  color: var(--sklearn-color-text);\n",
       "  /* unfitted */\n",
       "  background-color: var(--sklearn-color-unfitted-level-0);\n",
       "}\n",
       "\n",
       "#sk-container-id-3 div.sk-toggleable__content.fitted pre {\n",
       "  /* unfitted */\n",
       "  background-color: var(--sklearn-color-fitted-level-0);\n",
       "}\n",
       "\n",
       "#sk-container-id-3 input.sk-toggleable__control:checked~div.sk-toggleable__content {\n",
       "  /* Expand drop-down */\n",
       "  max-height: 200px;\n",
       "  max-width: 100%;\n",
       "  overflow: auto;\n",
       "}\n",
       "\n",
       "#sk-container-id-3 input.sk-toggleable__control:checked~label.sk-toggleable__label-arrow:before {\n",
       "  content: \"▾\";\n",
       "}\n",
       "\n",
       "/* Pipeline/ColumnTransformer-specific style */\n",
       "\n",
       "#sk-container-id-3 div.sk-label input.sk-toggleable__control:checked~label.sk-toggleable__label {\n",
       "  color: var(--sklearn-color-text);\n",
       "  background-color: var(--sklearn-color-unfitted-level-2);\n",
       "}\n",
       "\n",
       "#sk-container-id-3 div.sk-label.fitted input.sk-toggleable__control:checked~label.sk-toggleable__label {\n",
       "  background-color: var(--sklearn-color-fitted-level-2);\n",
       "}\n",
       "\n",
       "/* Estimator-specific style */\n",
       "\n",
       "/* Colorize estimator box */\n",
       "#sk-container-id-3 div.sk-estimator input.sk-toggleable__control:checked~label.sk-toggleable__label {\n",
       "  /* unfitted */\n",
       "  background-color: var(--sklearn-color-unfitted-level-2);\n",
       "}\n",
       "\n",
       "#sk-container-id-3 div.sk-estimator.fitted input.sk-toggleable__control:checked~label.sk-toggleable__label {\n",
       "  /* fitted */\n",
       "  background-color: var(--sklearn-color-fitted-level-2);\n",
       "}\n",
       "\n",
       "#sk-container-id-3 div.sk-label label.sk-toggleable__label,\n",
       "#sk-container-id-3 div.sk-label label {\n",
       "  /* The background is the default theme color */\n",
       "  color: var(--sklearn-color-text-on-default-background);\n",
       "}\n",
       "\n",
       "/* On hover, darken the color of the background */\n",
       "#sk-container-id-3 div.sk-label:hover label.sk-toggleable__label {\n",
       "  color: var(--sklearn-color-text);\n",
       "  background-color: var(--sklearn-color-unfitted-level-2);\n",
       "}\n",
       "\n",
       "/* Label box, darken color on hover, fitted */\n",
       "#sk-container-id-3 div.sk-label.fitted:hover label.sk-toggleable__label.fitted {\n",
       "  color: var(--sklearn-color-text);\n",
       "  background-color: var(--sklearn-color-fitted-level-2);\n",
       "}\n",
       "\n",
       "/* Estimator label */\n",
       "\n",
       "#sk-container-id-3 div.sk-label label {\n",
       "  font-family: monospace;\n",
       "  font-weight: bold;\n",
       "  display: inline-block;\n",
       "  line-height: 1.2em;\n",
       "}\n",
       "\n",
       "#sk-container-id-3 div.sk-label-container {\n",
       "  text-align: center;\n",
       "}\n",
       "\n",
       "/* Estimator-specific */\n",
       "#sk-container-id-3 div.sk-estimator {\n",
       "  font-family: monospace;\n",
       "  border: 1px dotted var(--sklearn-color-border-box);\n",
       "  border-radius: 0.25em;\n",
       "  box-sizing: border-box;\n",
       "  margin-bottom: 0.5em;\n",
       "  /* unfitted */\n",
       "  background-color: var(--sklearn-color-unfitted-level-0);\n",
       "}\n",
       "\n",
       "#sk-container-id-3 div.sk-estimator.fitted {\n",
       "  /* fitted */\n",
       "  background-color: var(--sklearn-color-fitted-level-0);\n",
       "}\n",
       "\n",
       "/* on hover */\n",
       "#sk-container-id-3 div.sk-estimator:hover {\n",
       "  /* unfitted */\n",
       "  background-color: var(--sklearn-color-unfitted-level-2);\n",
       "}\n",
       "\n",
       "#sk-container-id-3 div.sk-estimator.fitted:hover {\n",
       "  /* fitted */\n",
       "  background-color: var(--sklearn-color-fitted-level-2);\n",
       "}\n",
       "\n",
       "/* Specification for estimator info (e.g. \"i\" and \"?\") */\n",
       "\n",
       "/* Common style for \"i\" and \"?\" */\n",
       "\n",
       ".sk-estimator-doc-link,\n",
       "a:link.sk-estimator-doc-link,\n",
       "a:visited.sk-estimator-doc-link {\n",
       "  float: right;\n",
       "  font-size: smaller;\n",
       "  line-height: 1em;\n",
       "  font-family: monospace;\n",
       "  background-color: var(--sklearn-color-background);\n",
       "  border-radius: 1em;\n",
       "  height: 1em;\n",
       "  width: 1em;\n",
       "  text-decoration: none !important;\n",
       "  margin-left: 1ex;\n",
       "  /* unfitted */\n",
       "  border: var(--sklearn-color-unfitted-level-1) 1pt solid;\n",
       "  color: var(--sklearn-color-unfitted-level-1);\n",
       "}\n",
       "\n",
       ".sk-estimator-doc-link.fitted,\n",
       "a:link.sk-estimator-doc-link.fitted,\n",
       "a:visited.sk-estimator-doc-link.fitted {\n",
       "  /* fitted */\n",
       "  border: var(--sklearn-color-fitted-level-1) 1pt solid;\n",
       "  color: var(--sklearn-color-fitted-level-1);\n",
       "}\n",
       "\n",
       "/* On hover */\n",
       "div.sk-estimator:hover .sk-estimator-doc-link:hover,\n",
       ".sk-estimator-doc-link:hover,\n",
       "div.sk-label-container:hover .sk-estimator-doc-link:hover,\n",
       ".sk-estimator-doc-link:hover {\n",
       "  /* unfitted */\n",
       "  background-color: var(--sklearn-color-unfitted-level-3);\n",
       "  color: var(--sklearn-color-background);\n",
       "  text-decoration: none;\n",
       "}\n",
       "\n",
       "div.sk-estimator.fitted:hover .sk-estimator-doc-link.fitted:hover,\n",
       ".sk-estimator-doc-link.fitted:hover,\n",
       "div.sk-label-container:hover .sk-estimator-doc-link.fitted:hover,\n",
       ".sk-estimator-doc-link.fitted:hover {\n",
       "  /* fitted */\n",
       "  background-color: var(--sklearn-color-fitted-level-3);\n",
       "  color: var(--sklearn-color-background);\n",
       "  text-decoration: none;\n",
       "}\n",
       "\n",
       "/* Span, style for the box shown on hovering the info icon */\n",
       ".sk-estimator-doc-link span {\n",
       "  display: none;\n",
       "  z-index: 9999;\n",
       "  position: relative;\n",
       "  font-weight: normal;\n",
       "  right: .2ex;\n",
       "  padding: .5ex;\n",
       "  margin: .5ex;\n",
       "  width: min-content;\n",
       "  min-width: 20ex;\n",
       "  max-width: 50ex;\n",
       "  color: var(--sklearn-color-text);\n",
       "  box-shadow: 2pt 2pt 4pt #999;\n",
       "  /* unfitted */\n",
       "  background: var(--sklearn-color-unfitted-level-0);\n",
       "  border: .5pt solid var(--sklearn-color-unfitted-level-3);\n",
       "}\n",
       "\n",
       ".sk-estimator-doc-link.fitted span {\n",
       "  /* fitted */\n",
       "  background: var(--sklearn-color-fitted-level-0);\n",
       "  border: var(--sklearn-color-fitted-level-3);\n",
       "}\n",
       "\n",
       ".sk-estimator-doc-link:hover span {\n",
       "  display: block;\n",
       "}\n",
       "\n",
       "/* \"?\"-specific style due to the `<a>` HTML tag */\n",
       "\n",
       "#sk-container-id-3 a.estimator_doc_link {\n",
       "  float: right;\n",
       "  font-size: 1rem;\n",
       "  line-height: 1em;\n",
       "  font-family: monospace;\n",
       "  background-color: var(--sklearn-color-background);\n",
       "  border-radius: 1rem;\n",
       "  height: 1rem;\n",
       "  width: 1rem;\n",
       "  text-decoration: none;\n",
       "  /* unfitted */\n",
       "  color: var(--sklearn-color-unfitted-level-1);\n",
       "  border: var(--sklearn-color-unfitted-level-1) 1pt solid;\n",
       "}\n",
       "\n",
       "#sk-container-id-3 a.estimator_doc_link.fitted {\n",
       "  /* fitted */\n",
       "  border: var(--sklearn-color-fitted-level-1) 1pt solid;\n",
       "  color: var(--sklearn-color-fitted-level-1);\n",
       "}\n",
       "\n",
       "/* On hover */\n",
       "#sk-container-id-3 a.estimator_doc_link:hover {\n",
       "  /* unfitted */\n",
       "  background-color: var(--sklearn-color-unfitted-level-3);\n",
       "  color: var(--sklearn-color-background);\n",
       "  text-decoration: none;\n",
       "}\n",
       "\n",
       "#sk-container-id-3 a.estimator_doc_link.fitted:hover {\n",
       "  /* fitted */\n",
       "  background-color: var(--sklearn-color-fitted-level-3);\n",
       "}\n",
       "</style><div id=\"sk-container-id-3\" class=\"sk-top-container\"><div class=\"sk-text-repr-fallback\"><pre>LinearRegression()</pre><b>In a Jupyter environment, please rerun this cell to show the HTML representation or trust the notebook. <br />On GitHub, the HTML representation is unable to render, please try loading this page with nbviewer.org.</b></div><div class=\"sk-container\" hidden><div class=\"sk-item\"><div class=\"sk-estimator fitted sk-toggleable\"><input class=\"sk-toggleable__control sk-hidden--visually\" id=\"sk-estimator-id-3\" type=\"checkbox\" checked><label for=\"sk-estimator-id-3\" class=\"sk-toggleable__label fitted sk-toggleable__label-arrow fitted\">&nbsp;&nbsp;LinearRegression<a class=\"sk-estimator-doc-link fitted\" rel=\"noreferrer\" target=\"_blank\" href=\"https://scikit-learn.org/1.4/modules/generated/sklearn.linear_model.LinearRegression.html\">?<span>Documentation for LinearRegression</span></a><span class=\"sk-estimator-doc-link fitted\">i<span>Fitted</span></span></label><div class=\"sk-toggleable__content fitted\"><pre>LinearRegression()</pre></div> </div></div></div></div>"
      ],
      "text/plain": [
       "LinearRegression()"
      ]
     },
     "execution_count": 154,
     "metadata": {},
     "output_type": "execute_result"
    }
   ],
   "source": [
    "from sklearn.linear_model import LinearRegression\n",
    "\n",
    "model = LinearRegression()\n",
    "model.fit(X_train, y_train)\n"
   ]
  },
  {
   "cell_type": "code",
   "execution_count": 156,
   "id": "ee3c6c84-858c-4759-bf6e-ee8f2bf29855",
   "metadata": {
    "tags": []
   },
   "outputs": [],
   "source": [
    "X_test = [[0, 50, 32, -45]] "
   ]
  },
  {
   "cell_type": "code",
   "execution_count": 158,
   "id": "7a1b5cf4-bdb9-474a-974d-46d0d53255b2",
   "metadata": {
    "tags": []
   },
   "outputs": [
    {
     "name": "stderr",
     "output_type": "stream",
     "text": [
      "/opt/anaconda3/lib/python3.11/site-packages/sklearn/base.py:493: UserWarning: X does not have valid feature names, but LinearRegression was fitted with feature names\n",
      "  warnings.warn(\n"
     ]
    }
   ],
   "source": [
    "y_pred = model.predict(X_test)"
   ]
  },
  {
   "cell_type": "code",
   "execution_count": 160,
   "id": "45ed7949-1813-4edf-97be-e7f880625835",
   "metadata": {
    "tags": []
   },
   "outputs": [
    {
     "name": "stdout",
     "output_type": "stream",
     "text": [
      "[2457.54022759]\n"
     ]
    }
   ],
   "source": [
    "print(y_pred)"
   ]
  },
  {
   "cell_type": "code",
   "execution_count": 162,
   "id": "9f20fa11-4c5f-4197-9750-39e79744684c",
   "metadata": {},
   "outputs": [],
   "source": [
    "from sklearn.metrics import mean_absolute_error, r2_score"
   ]
  },
  {
   "cell_type": "code",
   "execution_count": 164,
   "id": "051aa2e0-0511-4ca5-a5b0-378a35b59338",
   "metadata": {
    "tags": []
   },
   "outputs": [],
   "source": [
    "desciptive_stats = df.describe()"
   ]
  },
  {
   "cell_type": "code",
   "execution_count": 166,
   "id": "50f1c486-ec65-442a-b626-9434229ca615",
   "metadata": {
    "tags": []
   },
   "outputs": [
    {
     "name": "stdout",
     "output_type": "stream",
     "text": [
      "             exp        gdp        imp   Military  natural gas rent  \\\n",
      "count  32.000000  32.000000  32.000000  32.000000         32.000000   \n",
      "mean    3.877186   0.990740   3.954621   2.135893          0.002330   \n",
      "std     5.819136   2.239869   5.334526   0.309253          0.001812   \n",
      "min   -16.903810  -7.791009 -12.324497   1.836461          0.000021   \n",
      "25%     2.104847   0.341678   2.244637   1.904915          0.000370   \n",
      "50%     4.326990   1.345386   4.692764   2.027201          0.002585   \n",
      "75%     6.298947   1.973188   6.477700   2.263509          0.003655   \n",
      "max    13.039245   6.131761  15.353489   2.812136          0.006358   \n",
      "\n",
      "             oil           tax        s&p  pop growth  inflalation  \n",
      "count  32.000000  3.200000e+01  32.000000   32.000000    32.000000  \n",
      "mean    0.009463  1.796716e+11   6.469655    0.498845     1.540207  \n",
      "std     0.004314  3.824664e+10  19.777786    0.166925     0.826214  \n",
      "min     0.002207  1.157420e+11 -45.156634    0.263869     0.037514  \n",
      "25%     0.007310  1.538608e+11  -7.350142    0.358089     0.990141  \n",
      "50%     0.009139  1.826460e+11   8.893180    0.483324     1.665320  \n",
      "75%     0.011307  2.070165e+11  17.252314    0.634066     2.011781  \n",
      "max     0.026636  2.470910e+11  39.879579    0.879707     3.213407  \n"
     ]
    }
   ],
   "source": [
    "print(descriptive_stats)"
   ]
  },
  {
   "cell_type": "code",
   "execution_count": 168,
   "id": "fae94751-1c8c-442b-bae2-c8ac05fee8db",
   "metadata": {},
   "outputs": [
    {
     "name": "stdout",
     "output_type": "stream",
     "text": [
      "<class 'pandas.core.frame.DataFrame'>\n",
      "RangeIndex: 32 entries, 0 to 31\n",
      "Data columns (total 11 columns):\n",
      " #   Column            Non-Null Count  Dtype  \n",
      "---  ------            --------------  -----  \n",
      " 0   exp               32 non-null     float64\n",
      " 1   gdp               32 non-null     float64\n",
      " 2   imp               32 non-null     float64\n",
      " 3   Military          32 non-null     float64\n",
      " 4   natural gas rent  32 non-null     float64\n",
      " 5   oil               32 non-null     float64\n",
      " 6   tax               32 non-null     float64\n",
      " 7   unemployment      32 non-null     object \n",
      " 8   sp                32 non-null     float64\n",
      " 9   pop growth        32 non-null     float64\n",
      " 10  inflalation       32 non-null     float64\n",
      "dtypes: float64(10), object(1)\n",
      "memory usage: 2.9+ KB\n",
      "None\n"
     ]
    }
   ],
   "source": [
    "print(df.info())"
   ]
  },
  {
   "cell_type": "code",
   "execution_count": 170,
   "id": "a5210cbe-f385-4044-a2ca-856c0047d786",
   "metadata": {},
   "outputs": [],
   "source": [
    "import gradio as gr\n",
    "def predict(imp, exp, oil, sp):\n",
    "    new_data = pd.DataFrame([[imp, exp, oil, sp]], columns=['imp', 'exp', 'oil', 'sp'])\n",
    "    prediction = model.predict(new_data)\n",
    "    return \"Prediction : {} \".format(prediction)"
   ]
  },
  {
   "cell_type": "code",
   "execution_count": 172,
   "id": "f8435eed-6d5f-4a70-9865-4736ff9101ea",
   "metadata": {
    "tags": []
   },
   "outputs": [
    {
     "name": "stdout",
     "output_type": "stream",
     "text": [
      "Prediction : [2230.09827078] \n"
     ]
    }
   ],
   "source": [
    "print(predict(12, 24, 29, 50))"
   ]
  },
  {
   "cell_type": "code",
   "execution_count": 174,
   "id": "e537aba2-a7c0-46f2-bab4-a106d12b26f4",
   "metadata": {
    "tags": []
   },
   "outputs": [],
   "source": [
    "imp = gr.Number(label=\"imp\")\n",
    "exp = gr.Number(label=\"exp\")\n",
    "oil = gr.Number(label=\"oil\")\n",
    "sp = gr.Number(label=\"sp\")"
   ]
  },
  {
   "cell_type": "code",
   "execution_count": 176,
   "id": "02f2769f-3acc-4d99-be36-03238b7a0569",
   "metadata": {
    "tags": []
   },
   "outputs": [],
   "source": [
    "gr_interface = gr.Interface(fn=predict, inputs=[imp, exp, oil, sp], outputs=\"text\", title=\"Linear Regression Prediction\",\n",
    "                            description=\"imp, exp, oil, sp\")"
   ]
  },
  {
   "cell_type": "code",
   "execution_count": 182,
   "id": "191a125f-7176-44c5-812b-f332b37e87ff",
   "metadata": {
    "tags": []
   },
   "outputs": [
    {
     "name": "stdout",
     "output_type": "stream",
     "text": [
      "Rerunning server... use `close()` to stop if you need to change `launch()` parameters.\n",
      "----\n",
      "\n",
      "Thanks for being a Gradio user! If you have questions or feedback, please join our Discord server and chat with us: https://discord.gg/feTf9x3ZSB\n",
      "Running on public URL: https://a4409b1b36f7c87fdb.gradio.live\n",
      "\n",
      "This share link expires in 72 hours. For free permanent hosting and GPU upgrades, run `gradio deploy` from Terminal to deploy to Spaces (https://huggingface.co/spaces)\n"
     ]
    },
    {
     "data": {
      "text/html": [
       "<div><iframe src=\"https://a4409b1b36f7c87fdb.gradio.live\" width=\"100%\" height=\"500\" allow=\"autoplay; camera; microphone; clipboard-read; clipboard-write;\" frameborder=\"0\" allowfullscreen></iframe></div>"
      ],
      "text/plain": [
       "<IPython.core.display.HTML object>"
      ]
     },
     "metadata": {},
     "output_type": "display_data"
    },
    {
     "data": {
      "text/plain": []
     },
     "execution_count": 182,
     "metadata": {},
     "output_type": "execute_result"
    }
   ],
   "source": [
    "gr_interface.launch(share=True)"
   ]
  },
  {
   "cell_type": "code",
   "execution_count": null,
   "id": "4293d23a-9819-40ed-8208-3b8a6f5bde77",
   "metadata": {},
   "outputs": [],
   "source": []
  }
 ],
 "metadata": {
  "kernelspec": {
   "display_name": "Python 3 (ipykernel)",
   "language": "python",
   "name": "python3"
  },
  "language_info": {
   "codemirror_mode": {
    "name": "ipython",
    "version": 3
   },
   "file_extension": ".py",
   "mimetype": "text/x-python",
   "name": "python",
   "nbconvert_exporter": "python",
   "pygments_lexer": "ipython3",
   "version": "3.11.7"
  }
 },
 "nbformat": 4,
 "nbformat_minor": 5
}
